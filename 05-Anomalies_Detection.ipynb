{
 "cells": [
  {
   "cell_type": "markdown",
   "metadata": {},
   "source": [
    "We are going to learn how to develop **anomaly detection** models. In machine learning, anomaly detection is used to identify rare or unusual patterns in data that do not conform to expected behavior. It is commonly applied in scenarios where abnormal events are of high interest, such as fraud detection, network security, and equipment fault diagnosis.\n",
    "\n",
    "### Anomaly Detection in Machine Learning\n",
    "\n",
    "Anomaly detection is a type of unsupervised learning task where the goal is to detect data points that deviate significantly from the norm. These deviations are often referred to as anomalies, outliers, or novelties. Unlike clustering, which groups data based on similarities, anomaly detection focuses on finding those instances that are dissimilar to the majority of the data.\n",
    "\n",
    "#### Key Concepts in Anomaly Detection\n",
    "\n",
    "1. **Unsupervised Learning**:\n",
    "   - Anomaly detection typically falls under the category of unsupervised learning, as we often do not have labeled data. The algorithm learns the \"normal\" patterns in the data and identifies deviations that may represent anomalies.\n",
    "\n",
    "2. **Anomalies**:\n",
    "   - Anomalies (also known as outliers) are data points that are rare and do not conform to the general pattern of the dataset. These points can be caused by errors, fraud, or unexpected events.\n",
    "   - **Point anomalies**: A single instance of data is anomalous with respect to the rest.\n",
    "   - **Contextual anomalies**: A data point is anomalous in a specific context (e.g., a high temperature in winter).\n",
    "   - **Collective anomalies**: A group of related data points is anomalous with respect to the whole dataset.\n",
    "\n",
    "3. **Normal vs. Anomalous Data**:\n",
    "   - The majority of the data represents normal behavior, and only a small portion is expected to be anomalous. Anomaly detection is essentially the task of separating these few abnormal points from the bulk of normal data.\n",
    "\n",
    "4. **Similarity Metrics**:\n",
    "   - Similar to clustering, anomaly detection uses similarity or distance metrics to determine how far an anomaly is from normal data points. Common metrics include Euclidean distance, Mahalanobis distance, and cosine similarity.\n",
    "\n",
    "5. **Types of Anomaly Detection**:\n",
    "   - **Supervised Anomaly Detection**: Uses labeled data where anomalies are explicitly tagged, which is less common due to the scarcity of labeled anomalies.\n",
    "   - **Unsupervised Anomaly Detection**: Learns normal patterns from unlabeled data and detects deviations.\n",
    "   - **Semi-supervised Anomaly Detection**: Trains on a dataset of normal instances and identifies deviations from the learned normality.\n",
    "\n",
    "6. **Applications of Anomaly Detection**:\n",
    "   - **Fraud Detection**: Identifying fraudulent transactions or activities.\n",
    "   - **Network Security**: Detecting unusual network traffic that may indicate a security breach.\n",
    "   - **Healthcare**: Monitoring patient data for abnormal patterns that could indicate disease.\n",
    "   - **Manufacturing**: Detecting faults or malfunctions in equipment.\n",
    "\n",
    "#### Popular Anomaly Detection Algorithms\n",
    "\n",
    "There are several algorithms commonly used for anomaly detection, ranging from classical statistical methods to modern machine learning approaches:\n",
    "\n",
    "1. **Isolation Forest**:\n",
    "   - Based on the principle that anomalies are few and different, this algorithm isolates anomalies by randomly partitioning the data. The points that require fewer partitions to be isolated are considered anomalies.\n",
    "\n",
    "2. **One-Class SVM**:\n",
    "   - A variant of Support Vector Machines (SVMs) used for anomaly detection. It finds a boundary that separates the normal data from anomalies.\n",
    "\n",
    "3. **Autoencoders**:\n",
    "   - A type of neural network used in unsupervised learning. The autoencoder learns to compress the data (encoder) and reconstruct it (decoder). Data that cannot be well reconstructed by the autoencoder may represent anomalies.\n",
    "\n",
    "4. **Gaussian Mixture Models (GMM)**:\n",
    "   - A probabilistic model that assumes the data is generated from a mixture of several Gaussian distributions. Anomalies are detected by looking at data points with low likelihood under the model.\n",
    "\n",
    "5. **DBSCAN (Density-Based Spatial Clustering of Applications with Noise)**:\n",
    "   - A clustering algorithm that identifies regions of high-density data. Points that are in low-density regions are considered noise or outliers (anomalies)."
   ]
  },
  {
   "cell_type": "markdown",
   "metadata": {},
   "source": [
    "One of the most known algo for Anomalies detection is LOF (Local Outlier Factor)\n",
    "\n",
    "### Local Outlier Factor (LOF) Algorithm\n",
    "\n",
    "The **Local Outlier Factor (LOF)** is an unsupervised anomaly detection algorithm that measures the local density deviation of a given data point with respect to its neighbors. The key idea behind LOF is that anomalies are points that have a much lower density compared to their neighbors.\n",
    "\n",
    "#### Key Concepts of LOF:\n",
    "\n",
    "1. **Local Density**:\n",
    "   - LOF calculates the local density of each data point by comparing its distance to its nearest neighbors. The algorithm uses the concept of **k-nearest neighbors** (k-NN) to evaluate how isolated a data point is compared to the points surrounding it.\n",
    "\n",
    "2. **Reachability Distance**:\n",
    "   - The reachability distance of a point A with respect to point B is defined as the maximum of the Euclidean distance between A and B and the distance between B and its k-th nearest neighbor. This distance ensures that local density is not overly affected by very close points.\n",
    "\n",
    "3. **Local Reachability Density (LRD)**:\n",
    "   - The local reachability density of a point is the inverse of the average reachability distance to its k-nearest neighbors. A lower LRD means the point is located in a sparse region, indicating the possibility of it being an outlier.\n",
    "\n",
    "4. **Local Outlier Factor (LOF)**:\n",
    "   - The LOF score is calculated as the ratio of the local reachability density of a point and the local reachability density of its neighbors. A high LOF score means the point is in a region of significantly lower density compared to its neighbors, marking it as a potential outlier.\n",
    "   - LOF values close to 1 indicate that the point is in a region of similar density as its neighbors (normal behavior).\n",
    "   - LOF values greater than 1 indicate that the point is an outlier (anomalous behavior).\n",
    "\n",
    "#### How LOF Works:\n",
    "\n",
    "1. **Determine the Neighbors**:\n",
    "   - For each data point, determine its k-nearest neighbors based on a distance metric such as Euclidean distance.\n",
    "\n",
    "2. **Compute Reachability Distance**:\n",
    "   - Calculate the reachability distance for each point with respect to its neighbors to smooth the effects of outliers that might be close to the point.\n",
    "\n",
    "3. **Calculate Local Reachability Density**:\n",
    "   - For each point, calculate the local reachability density by averaging the reachability distances of its neighbors.\n",
    "\n",
    "4. **Compute the LOF Score**:\n",
    "   - For each point, calculate the LOF score by comparing its local reachability density to the local reachability density of its neighbors.\n",
    "\n",
    "5. **Anomaly Detection**:\n",
    "   - Points with LOF scores significantly greater than 1 are considered anomalies, as they exist in regions of lower density compared to their surroundings.\n",
    "\n",
    "#### Advantages of LOF:\n",
    "\n",
    "- **Density-Based**: LOF detects anomalies by comparing the density of a point to its neighbors, making it sensitive to local variations in the data.\n",
    "- **No Assumptions on Data Shape**: Unlike algorithms like K-Means, LOF does not assume a particular shape of the data distribution (e.g., spherical clusters).\n",
    "- **Local Sensitivity**: LOF is particularly useful in detecting anomalies in datasets with varying densities, as it evaluates points based on their local neighborhood.\n",
    "\n",
    "#### Limitations of LOF:\n",
    "\n",
    "- **Sensitive to Parameters**: The choice of the number of neighbors (k) can significantly impact the results, and finding an optimal k can be challenging.\n",
    "- **Computational Complexity**: LOF can be computationally expensive for large datasets, as it requires calculating distances between all points and their neighbors.\n",
    "\n",
    "#### Example Use Cases:\n",
    "\n",
    "- **Credit Card Fraud Detection**: Detecting unusual transactions by comparing the density of transactions for an individual account.\n",
    "- **Network Intrusion Detection**: Identifying irregular network traffic patterns that differ from normal activity.\n",
    "- **Fault Detection in Industrial Systems**: Finding abnormal operational conditions in systems by detecting outlier sensor readings."
   ]
  },
  {
   "cell_type": "code",
   "execution_count": 1,
   "metadata": {},
   "outputs": [],
   "source": [
    "import numpy as np\n",
    "import matplotlib.pyplot as plt\n",
    "from sklearn.datasets import make_blobs\n",
    "from sklearn.neighbors import LocalOutlierFactor"
   ]
  },
  {
   "cell_type": "code",
   "execution_count": 2,
   "metadata": {},
   "outputs": [],
   "source": [
    "#generate synthetic dataset (normal data + anomalies)\n",
    "rng = np.random.RandomState(2024)\n",
    "\n",
    "#create 1000 normal points\n",
    "X_inliers = 0.3 * rng.randn(1000,2)\n",
    "\n",
    "#create 20 anomlous points\n",
    "X_outliers = rng.uniform(low=4, high=4, size=(20,2))\n",
    "\n",
    "#combine the datasets\n",
    "X = np.concatenate([X_inliers, X_outliers], axis=0)\n",
    "\n",
    "#instatiate the LOF model\n",
    "lof = LocalOutlierFactor(n_neighbors=20, contamination=0.02)\n",
    "\n",
    "#fit the model and predic\n",
    "y_pred = lof.fit_predict(X)\n",
    "\n",
    "#identify the anomalies\n",
    "anomalies = np.where(y_pred == -1)"
   ]
  },
  {
   "cell_type": "code",
   "execution_count": 3,
   "metadata": {},
   "outputs": [
    {
     "data": {
      "text/plain": [
       "<matplotlib.legend.Legend at 0x124ac8e20>"
      ]
     },
     "execution_count": 3,
     "metadata": {},
     "output_type": "execute_result"
    },
    {
     "data": {
      "image/png": "[encoded data removed]",
      "text/plain": [
       "<Figure size 640x480 with 1 Axes>"
      ]
     },
     "metadata": {},
     "output_type": "display_data"
    }
   ],
   "source": [
    "#plot the results\n",
    "plt.scatter(X[:,0], X[:,1], label=\"Normal Data\")\n",
    "plt.scatter(X[anomalies,0], X[anomalies,1], color='red', label=\"Anomalies\")\n",
    "plt.legend()"
   ]
  },
  {
   "cell_type": "markdown",
   "metadata": {},
   "source": [
    "Here’s a basic implementation of Isolation Forest in Python using the sklearn library:"
   ]
  },
  {
   "cell_type": "code",
   "execution_count": 4,
   "metadata": {},
   "outputs": [],
   "source": [
    "from sklearn.ensemble import IsolationForest\n",
    "import numpy as np"
   ]
  },
  {
   "cell_type": "code",
   "execution_count": 5,
   "metadata": {},
   "outputs": [
    {
     "data": {
      "text/html": [
       "<style>#sk-container-id-1 {color: black;}#sk-container-id-1 pre{padding: 0;}#sk-container-id-1 div.sk-toggleable {background-color: white;}#sk-container-id-1 label.sk-toggleable__label {cursor: pointer;display: block;width: 100%;margin-bottom: 0;padding: 0.3em;box-sizing: border-box;text-align: center;}#sk-container-id-1 label.sk-toggleable__label-arrow:before {content: \"▸\";float: left;margin-right: 0.25em;color: #696969;}#sk-container-id-1 label.sk-toggleable__label-arrow:hover:before {color: black;}#sk-container-id-1 div.sk-estimator:hover label.sk-toggleable__label-arrow:before {color: black;}#sk-container-id-1 div.sk-toggleable__content {max-height: 0;max-width: 0;overflow: hidden;text-align: left;background-color: #f0f8ff;}#sk-container-id-1 div.sk-toggleable__content pre {margin: 0.2em;color: black;border-radius: 0.25em;background-color: #f0f8ff;}#sk-container-id-1 input.sk-toggleable__control:checked~div.sk-toggleable__content {max-height: 200px;max-width: 100%;overflow: auto;}#sk-container-id-1 input.sk-toggleable__control:checked~label.sk-toggleable__label-arrow:before {content: \"▾\";}#sk-container-id-1 div.sk-estimator input.sk-toggleable__control:checked~label.sk-toggleable__label {background-color: #d4ebff;}#sk-container-id-1 div.sk-label input.sk-toggleable__control:checked~label.sk-toggleable__label {background-color: #d4ebff;}#sk-container-id-1 input.sk-hidden--visually {border: 0;clip: rect(1px 1px 1px 1px);clip: rect(1px, 1px, 1px, 1px);height: 1px;margin: -1px;overflow: hidden;padding: 0;position: absolute;width: 1px;}#sk-container-id-1 div.sk-estimator {font-family: monospace;background-color: #f0f8ff;border: 1px dotted black;border-radius: 0.25em;box-sizing: border-box;margin-bottom: 0.5em;}#sk-container-id-1 div.sk-estimator:hover {background-color: #d4ebff;}#sk-container-id-1 div.sk-parallel-item::after {content: \"\";width: 100%;border-bottom: 1px solid gray;flex-grow: 1;}#sk-container-id-1 div.sk-label:hover label.sk-toggleable__label {background-color: #d4ebff;}#sk-container-id-1 div.sk-serial::before {content: \"\";position: absolute;border-left: 1px solid gray;box-sizing: border-box;top: 0;bottom: 0;left: 50%;z-index: 0;}#sk-container-id-1 div.sk-serial {display: flex;flex-direction: column;align-items: center;background-color: white;padding-right: 0.2em;padding-left: 0.2em;position: relative;}#sk-container-id-1 div.sk-item {position: relative;z-index: 1;}#sk-container-id-1 div.sk-parallel {display: flex;align-items: stretch;justify-content: center;background-color: white;position: relative;}#sk-container-id-1 div.sk-item::before, #sk-container-id-1 div.sk-parallel-item::before {content: \"\";position: absolute;border-left: 1px solid gray;box-sizing: border-box;top: 0;bottom: 0;left: 50%;z-index: -1;}#sk-container-id-1 div.sk-parallel-item {display: flex;flex-direction: column;z-index: 1;position: relative;background-color: white;}#sk-container-id-1 div.sk-parallel-item:first-child::after {align-self: flex-end;width: 50%;}#sk-container-id-1 div.sk-parallel-item:last-child::after {align-self: flex-start;width: 50%;}#sk-container-id-1 div.sk-parallel-item:only-child::after {width: 0;}#sk-container-id-1 div.sk-dashed-wrapped {border: 1px dashed gray;margin: 0 0.4em 0.5em 0.4em;box-sizing: border-box;padding-bottom: 0.4em;background-color: white;}#sk-container-id-1 div.sk-label label {font-family: monospace;font-weight: bold;display: inline-block;line-height: 1.2em;}#sk-container-id-1 div.sk-label-container {text-align: center;}#sk-container-id-1 div.sk-container {/* jupyter's `normalize.less` sets `[hidden] { display: none; }` but bootstrap.min.css set `[hidden] { display: none !important; }` so we also need the `!important` here to be able to override the default hidden behavior on the sphinx rendered scikit-learn.org. See: https://github.com/scikit-learn/scikit-learn/issues/21755 */display: inline-block !important;position: relative;}#sk-container-id-1 div.sk-text-repr-fallback {display: none;}</style><div id=\"sk-container-id-1\" class=\"sk-top-container\"><div class=\"sk-text-repr-fallback\"><pre>IsolationForest(contamination=0.02, random_state=2024)</pre><b>In a Jupyter environment, please rerun this cell to show the HTML representation or trust the notebook. <br />On GitHub, the HTML representation is unable to render, please try loading this page with nbviewer.org.</b></div><div class=\"sk-container\" hidden><div class=\"sk-item\"><div class=\"sk-estimator sk-toggleable\"><input class=\"sk-toggleable__control sk-hidden--visually\" id=\"sk-estimator-id-1\" type=\"checkbox\" checked><label for=\"sk-estimator-id-1\" class=\"sk-toggleable__label sk-toggleable__label-arrow\">IsolationForest</label><div class=\"sk-toggleable__content\"><pre>IsolationForest(contamination=0.02, random_state=2024)</pre></div></div></div></div></div>"
      ],
      "text/plain": [
       "IsolationForest(contamination=0.02, random_state=2024)"
      ]
     },
     "execution_count": 5,
     "metadata": {},
     "output_type": "execute_result"
    }
   ],
   "source": [
    "#generate synthetic data \n",
    "\n",
    "# 1000 normal data points\n",
    "X = 0.3 * rng.randn(1000,2)\n",
    "\n",
    "# 20 anomalous data points\n",
    "X_anomalous = rng.uniform(low=4, high=4, size=(20,2))\n",
    "X = np.concatenate([X, X_anomalous], axis=0)\n",
    "\n",
    "#train isolation forest\n",
    "model = IsolationForest(contamination=0.02, random_state=2024)\n",
    "model.fit(X)\n"
   ]
  },
  {
   "cell_type": "code",
   "execution_count": 15,
   "metadata": {},
   "outputs": [
    {
     "name": "stdout",
     "output_type": "stream",
     "text": [
      "Number of anomalies detected: 21\n"
     ]
    }
   ],
   "source": [
    "predictions = model.predict(X)\n",
    "\n",
    "# Identify the anomaly and normal indices\n",
    "anomalies = np.where(predictions == -1)\n",
    "normal = np.where(predictions == 1)\n",
    "\n",
    "print(f\"Number of anomalies detected: {len(anomalies[0])}\")"
   ]
  },
  {
   "cell_type": "code",
   "execution_count": null,
   "metadata": {},
   "outputs": [],
   "source": []
  }
 ],
 "metadata": {
  "kernelspec": {
   "display_name": "ml-algo",
   "language": "python",
   "name": "python3"
  },
  "language_info": {
   "codemirror_mode": {
    "name": "ipython",
    "version": 3
   },
   "file_extension": ".py",
   "mimetype": "text/x-python",
   "name": "python",
   "nbconvert_exporter": "python",
   "pygments_lexer": "ipython3",
   "version": "3.8.19"
  }
 },
 "nbformat": 4,
 "nbformat_minor": 2
}
